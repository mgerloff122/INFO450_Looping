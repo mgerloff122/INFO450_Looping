{
 "cells": [
  {
   "cell_type": "markdown",
   "metadata": {},
   "source": [
    "# In Class Assignment #5: File IO, Recursion\n",
    "\n",
    "## Submit this assignment completed, in its own repository, as a GITHUB LINK. Cite your sources as always"
   ]
  },
  {
   "cell_type": "markdown",
   "metadata": {},
   "source": [
    "# PART 1. \n",
    "Read in \"numbers.txt\" using the \"open file\" method we learned in class. Save the contents in a list variable called \"L\"\n",
    "\n"
   ]
  },
  {
   "cell_type": "code",
   "execution_count": 2,
   "metadata": {},
   "outputs": [],
   "source": [
    "filename = 'numbers.txt'"
   ]
  },
  {
   "cell_type": "code",
   "execution_count": 11,
   "metadata": {},
   "outputs": [],
   "source": [
    "L = []"
   ]
  },
  {
   "cell_type": "code",
   "execution_count": 12,
   "metadata": {},
   "outputs": [],
   "source": [
    "with open(filename) as file_object:\n",
    "    for line in file_object:\n",
    "        L.append(line)\n",
    "    "
   ]
  },
  {
   "cell_type": "code",
   "execution_count": 13,
   "metadata": {},
   "outputs": [
    {
     "data": {
      "text/plain": [
       "['10, 32, 70, 42, 34, 35, 46, 88, 10, 10, 22, 97, 22, 37, 75, 99, 46, 63, 8, 51, 8, 7, 4, 66, 24, 94, 76, 48, 14, 58']"
      ]
     },
     "execution_count": 13,
     "metadata": {},
     "output_type": "execute_result"
    }
   ],
   "source": [
    "L"
   ]
  },
  {
   "cell_type": "markdown",
   "metadata": {},
   "source": [
    "# PART 2. \n",
    "\n",
    "Write a Python function called \"sum_recursive()\" that takes a positive integer \"n\" as an input and \n",
    "uses recursion to calculate the *sum of all integers* from 1 to \"n\". Your function should return the sum.\n",
    "\n",
    "For example, if n is 5, your function should calculate and return the sum 1 + 2 + 3 + 4 + 5 = 15.\n",
    "\n",
    "You can assume that the input n will always be a positive integer.\n",
    "\n",
    "You should not use any built-in functions or methods that directly solve this problem (e.g. sum() or range()), \n",
    "and you should use recursion to solve the problem."
   ]
  },
  {
   "cell_type": "code",
   "execution_count": 14,
   "metadata": {},
   "outputs": [],
   "source": [
    "def sum_recursive(n):\n",
    "    if n == 1:\n",
    "        return 1\n",
    "    if n > 1:\n",
    "        return n + sum_recursive(n-1)"
   ]
  },
  {
   "cell_type": "code",
   "execution_count": 15,
   "metadata": {},
   "outputs": [
    {
     "data": {
      "text/plain": [
       "15"
      ]
     },
     "execution_count": 15,
     "metadata": {},
     "output_type": "execute_result"
    }
   ],
   "source": [
    "sum_recursive(5)"
   ]
  },
  {
   "cell_type": "code",
   "execution_count": null,
   "metadata": {},
   "outputs": [],
   "source": [
    "#Source- ChatGPT"
   ]
  },
  {
   "cell_type": "markdown",
   "metadata": {},
   "source": [
    "## PART 3.\n",
    "\n",
    "Write a Python function called \"looping()\" that takes a list of integers, runs each integer through \"sum_recursive()\", and returns the list of recursively summed integers.\n",
    "\n",
    "ie. if your list is [2, 5, 3], your function output should be [3, 15, 6]"
   ]
  },
  {
   "cell_type": "code",
   "execution_count": 20,
   "metadata": {},
   "outputs": [],
   "source": [
    "def looping(numbers):\n",
    "    results = []\n",
    "    for n in numbers:\n",
    "        results.append(sum_recursive(n))\n",
    "    return results"
   ]
  },
  {
   "cell_type": "code",
   "execution_count": 21,
   "metadata": {},
   "outputs": [
    {
     "name": "stdout",
     "output_type": "stream",
     "text": [
      "[3, 15, 6]\n"
     ]
    }
   ],
   "source": [
    "numbers=[2,5,3]\n",
    "results = looping(numbers)\n",
    "print(results)"
   ]
  },
  {
   "cell_type": "code",
   "execution_count": null,
   "metadata": {},
   "outputs": [],
   "source": [
    "#Source- ChatGPT"
   ]
  },
  {
   "cell_type": "markdown",
   "metadata": {},
   "source": [
    "## PART 4. \n",
    "You probably saw this coming by now..\n",
    "\n",
    "Please run the contents of the \"numbers.txt\" file (you completed in PART 1) through your \"looping()\" function"
   ]
  },
  {
   "cell_type": "code",
   "execution_count": 25,
   "metadata": {},
   "outputs": [],
   "source": [
    "def iterate_file(filename):\n",
    "    with open(filename, 'r') as f:\n",
    "        numbers = [int(num.strip()) for num in f.read().split(',')]\n",
    "        return looping(numbers)"
   ]
  },
  {
   "cell_type": "code",
   "execution_count": 26,
   "metadata": {},
   "outputs": [
    {
     "name": "stdout",
     "output_type": "stream",
     "text": [
      "[55, 528, 2485, 903, 595, 630, 1081, 3916, 55, 55, 253, 4753, 253, 703, 2850, 4950, 1081, 2016, 36, 1326, 36, 28, 10, 2211, 300, 4465, 2926, 1176, 105, 1711]\n"
     ]
    }
   ],
   "source": [
    "result = iterate_file('numbers.txt')\n",
    "print(result)"
   ]
  },
  {
   "cell_type": "code",
   "execution_count": null,
   "metadata": {},
   "outputs": [],
   "source": [
    "#Source- ChatGPT"
   ]
  }
 ],
 "metadata": {
  "kernelspec": {
   "display_name": "Python 3 (ipykernel)",
   "language": "python",
   "name": "python3"
  },
  "language_info": {
   "codemirror_mode": {
    "name": "ipython",
    "version": 3
   },
   "file_extension": ".py",
   "mimetype": "text/x-python",
   "name": "python",
   "nbconvert_exporter": "python",
   "pygments_lexer": "ipython3",
   "version": "3.9.13"
  }
 },
 "nbformat": 4,
 "nbformat_minor": 2
}
